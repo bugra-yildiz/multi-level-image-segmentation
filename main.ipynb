{
 "cells": [
  {
   "cell_type": "code",
   "execution_count": null,
   "metadata": {},
   "outputs": [],
   "source": [
    "# test push\n",
    "# Imports\n",
    "from PIL import Image\n",
    "from collections import Counter\n",
    "import numpy as np\n",
    "import matplotlib.pyplot as plt"
   ]
  },
  {
   "cell_type": "code",
   "execution_count": null,
   "metadata": {},
   "outputs": [],
   "source": [
    "# Converting the image to a numpy array\n",
    "def img_to_arr(the_path):\n",
    "    img = Image.open(the_path)\n",
    "    img = img.convert(\"L\")\n",
    "    data = list(img.getdata())\n",
    "    data = np.array(data)\n",
    "\n",
    "    return data"
   ]
  },
  {
   "cell_type": "code",
   "execution_count": null,
   "metadata": {},
   "outputs": [],
   "source": [
    "img_path = \"./img.jpg\" # Image source path"
   ]
  },
  {
   "cell_type": "code",
   "execution_count": null,
   "metadata": {},
   "outputs": [],
   "source": [
    "img = Image.open(img_path)\n",
    "print(img.format, img.size, img.mode)"
   ]
  },
  {
   "cell_type": "code",
   "execution_count": null,
   "metadata": {},
   "outputs": [],
   "source": [
    "img_arr = img_to_arr(img_path)\n",
    "print(img_arr)\n",
    "print(len(img_arr))"
   ]
  },
  {
   "cell_type": "code",
   "execution_count": null,
   "metadata": {},
   "outputs": [],
   "source": [
    "# Create a zero array with 256 length to store the count of the pixel values.\n",
    "pixel_counts = np.zeros(256, dtype=int)\n",
    "\n",
    "unique_values, counts = np.unique(img_arr, return_counts=True)\n",
    "\n",
    "print(\"Unique Values : \\n\",unique_values)\n",
    "print(\"Count Of Each Value : \\n\",counts)\n",
    "\n",
    "pixel_counts[unique_values] = counts\n",
    "\n",
    "print(\"Pixel Counts: \\n\", pixel_counts)"
   ]
  },
  {
   "cell_type": "code",
   "execution_count": null,
   "metadata": {},
   "outputs": [],
   "source": [
    "# Visualize the pixel count with a histogram.\n",
    "x_values = np.arange(len(pixel_counts))\n",
    "\n",
    "# Creating a bar plot\n",
    "plt.figure(figsize=(35,20))\n",
    "plt.bar(x_values, pixel_counts, color='blue', alpha=0.7)\n",
    "plt.xlabel('Pixel Color')\n",
    "plt.ylabel('Frequency')\n",
    "plt.title('Pixel Color Frequency Histogram')\n",
    "\n",
    "plt.show()"
   ]
  },
  {
   "cell_type": "code",
   "execution_count": null,
   "metadata": {},
   "outputs": [],
   "source": [
    "# This is the indices of pixel_counts array if it is sorted\n",
    "pixel_values_sorted = np.argsort(pixel_counts)\n",
    "print(pixel_values_sorted)"
   ]
  },
  {
   "cell_type": "code",
   "execution_count": null,
   "metadata": {},
   "outputs": [],
   "source": [
    "# Create an array to calcualte the slope. This is for right side\n",
    "def create_arr_for_slope_r(arr, start, limit):\n",
    "    end_index = 0\n",
    "    if (start + limit > 255):\n",
    "        end_index = 255\n",
    "    else:\n",
    "        end_index = start + limit\n",
    "    \n",
    "    selected_x = np.arange(start, end_index, dtype=int)\n",
    "    selected_y = arr[start:end_index]\n",
    "\n",
    "    return selected_x, selected_y"
   ]
  },
  {
   "cell_type": "code",
   "execution_count": null,
   "metadata": {},
   "outputs": [],
   "source": [
    "# Create an array to calcualte the slope. This is for right side\n",
    "def create_arr_for_slope_l(arr, start, limit):\n",
    "    end_index = 0\n",
    "    if (start - limit < 0):\n",
    "        end_index = 0\n",
    "    else:\n",
    "        end_index = start - limit\n",
    "\n",
    "    selected_x = np.arange(end_index, start, dtype=int)\n",
    "    selected_y = arr[end_index:start]\n",
    "\n",
    "    return selected_x, selected_y"
   ]
  },
  {
   "cell_type": "code",
   "execution_count": null,
   "metadata": {},
   "outputs": [],
   "source": [
    "# This function trys to find the threshold to be the segmentation point and the spawning area around the threshold.\n",
    "def check_if_threshold_true(pixel_threshhold_arr, pixel_amount_arr):\n",
    "    spawn = 16 # Arbitrary spawn start value\n",
    "    flag = 0\n",
    "    results = []\n",
    "\n",
    "    while (flag != -1):\n",
    "        if(flag == 128): # Because there is 256 different potential threshold points we choose to only look for half of them\n",
    "            break\n",
    "        \n",
    "        print(\"LOOP : ### \", flag)\n",
    "        print(\"SPAWN : \", spawn)\n",
    "        print(\"RESULTS : \", results)\n",
    "        print(\"\\n\\n\\n\")\n",
    "\n",
    "        # Create the arrays to calculate the slope\n",
    "        arr_x_left, arr_y_left = create_arr_for_slope_l(pixel_amount_arr, pixel_threshhold_arr[flag], spawn)\n",
    "        arr_x_rigth, arr_y_rigth = create_arr_for_slope_r(pixel_amount_arr, pixel_threshhold_arr[flag], spawn)\n",
    "\n",
    "        # Calculate the slope\n",
    "        left_slope, _ = np.polyfit(arr_x_left, arr_y_left, 1)\n",
    "        rigth_slope, _ = np.polyfit(arr_x_rigth, arr_y_rigth, 1)\n",
    "\n",
    "        print(\"L SLOPE : \", left_slope)\n",
    "        print(\"R SLOPE : \", rigth_slope)\n",
    "        print(\"\\n\")\n",
    "        \n",
    "        # We want the left slope to be negative and right slope to be positive if any of this is false we are on wrong threshold \n",
    "        if (left_slope > 1 or rigth_slope < -1):\n",
    "            flag += 1\n",
    "            spawn = 16\n",
    "            print(\"IF 1 --- l_slope, r_slope\", left_slope, rigth_slope)\n",
    "            print(\"IF 1 --- flag, spawn\", flag, spawn)\n",
    "            continue\n",
    "        \n",
    "        # If the slopes are not steep enough we increase the spawning area around the threshold. This prevents finding thresholds side by side. We want thresholds to be discrete.\n",
    "        if (abs(left_slope) < 5 or rigth_slope < 5):\n",
    "            spawn += 8\n",
    "            print(\"IF 2 --- l_slope, r_slope\", left_slope, rigth_slope)\n",
    "            print(\"IF 2 --- flag, spawn\", flag, spawn)\n",
    "            print(\"\\n\\n\\n\")\n",
    "            continue\n",
    "        \n",
    "        temp = {\"pixel_value\" : pixel_threshhold_arr[flag], \"spawn\" : spawn}\n",
    "\n",
    "        # Check if the found threshold is in another threshold's spawn area. If not add it to the results\n",
    "        is_in_range = any(record['pixel_value'] - record['spawn'] <= temp['pixel_value'] <= record['pixel_value'] + record['spawn'] for record in results)\n",
    "\n",
    "        if not is_in_range:\n",
    "            results.append(temp)\n",
    "            flag += 1\n",
    "            spawn = 16\n",
    "            \n",
    "            print(\"New record added successfully!\")\n",
    "        else:\n",
    "            flag += 1\n",
    "            spawn = 16\n",
    "            print(\"Record already exists within the range in the list.\")\n",
    "\n",
    "\n",
    "    return results"
   ]
  },
  {
   "cell_type": "code",
   "execution_count": null,
   "metadata": {},
   "outputs": [],
   "source": [
    "result_thresholds = check_if_threshold_true(pixel_values_sorted, pixel_counts)"
   ]
  },
  {
   "cell_type": "code",
   "execution_count": null,
   "metadata": {},
   "outputs": [],
   "source": [
    "result_thresholds"
   ]
  },
  {
   "cell_type": "code",
   "execution_count": null,
   "metadata": {},
   "outputs": [],
   "source": [
    "# Sort result thresholds\n",
    "result_thresholds = sorted(result_thresholds, key=lambda x: x['pixel_value'])"
   ]
  },
  {
   "cell_type": "code",
   "execution_count": null,
   "metadata": {},
   "outputs": [],
   "source": [
    "# This function creates a PNG image with alpha channel so unwanted parts can be set to transparent.\n",
    "def create_segmented_img(orj_img, orj_img_arr, lower_limit, upper_limit, section):\n",
    "    \n",
    "    # To construct a new image we give original image's size\n",
    "    width = orj_img.size[0]\n",
    "    height = orj_img.size[1]\n",
    "    new_image = Image.new('RGBA', (width, height))\n",
    "    \n",
    "    # We iterate over all pixels and if the pixel value is what we wanted put the pixel as it is if not make it transparent.\n",
    "    for y in range(height):\n",
    "        for x in range(width):\n",
    "            pixel_value = orj_img_arr[y * width + x]\n",
    "            if (lower_limit <= pixel_value <= upper_limit):\n",
    "                new_image.putpixel((x, y), (pixel_value, pixel_value, pixel_value))\n",
    "            else:\n",
    "                new_image.putpixel((x, y), (0, 0, 0, 0))\n",
    "\n",
    "    # Save the image\n",
    "    new_image.save('image_segment_'+ section +'.png', format='PNG')\n"
   ]
  },
  {
   "cell_type": "code",
   "execution_count": null,
   "metadata": {},
   "outputs": [],
   "source": [
    "lower_boundary = 0\n",
    "upper_boundary = 0\n",
    "\n",
    "# We iterate over thresholds and give the segment create function needed limits\n",
    "for i in range(len(result_thresholds) + 1):\n",
    "\n",
    "    upper_boundary = result_thresholds[i][\"pixel_value\"]\n",
    "    print(\"UPPER : \", upper_boundary)\n",
    "    print(\"LOWER : \", lower_boundary)\n",
    "    create_segmented_img(img, img_arr, lower_boundary, upper_boundary, str(i+1))\n",
    "\n",
    "    if (i + 1 == len(result_thresholds)):\n",
    "        upper_boundary = 255\n",
    "        lower_boundary = result_thresholds[i][\"pixel_value\"]\n",
    "        print(\"UPPER FNL : \", upper_boundary)\n",
    "        print(\"LOWER FNL: \", lower_boundary)\n",
    "        create_segmented_img(img, img_arr, lower_boundary, upper_boundary, str(i+2))\n",
    "        break\n",
    "\n",
    "    lower_boundary = result_thresholds[i][\"pixel_value\"]\n",
    "    upper_boundary = result_thresholds[i+1][\"pixel_value\"]\n",
    "    print(\"UPPER UPT : \", upper_boundary)\n",
    "    print(\"LOWER UPT: \", lower_boundary)\n",
    "\n"
   ]
  }
 ],
 "metadata": {
  "kernelspec": {
   "display_name": "base",
   "language": "python",
   "name": "python3"
  },
  "language_info": {
   "codemirror_mode": {
    "name": "ipython",
    "version": 3
   },
   "file_extension": ".py",
   "mimetype": "text/x-python",
   "name": "python",
   "nbconvert_exporter": "python",
   "pygments_lexer": "ipython3",
   "version": "3.9.12"
  }
 },
 "nbformat": 4,
 "nbformat_minor": 2
}
